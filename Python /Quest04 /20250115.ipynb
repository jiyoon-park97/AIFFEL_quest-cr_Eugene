{
  "nbformat": 4,
  "nbformat_minor": 0,
  "metadata": {
    "colab": {
      "provenance": [],
      "include_colab_link": true
    },
    "kernelspec": {
      "name": "python3",
      "display_name": "Python 3"
    },
    "language_info": {
      "name": "python"
    }
  },
  "cells": [
    {
      "cell_type": "markdown",
      "metadata": {
        "id": "view-in-github",
        "colab_type": "text"
      },
      "source": [
        "<a href=\"https://colab.research.google.com/github/jiyoon-park97/AIFFEL_quest-cr_Eugene/blob/main/Python%20/Quest04%20/20250115.ipynb\" target=\"_parent\"><img src=\"https://colab.research.google.com/assets/colab-badge.svg\" alt=\"Open In Colab\"/></a>"
      ]
    },
    {
      "cell_type": "code",
      "execution_count": null,
      "metadata": {
        "id": "hpDq4Trvh7Ju",
        "colab": {
          "base_uri": "https://localhost:8080/"
        },
        "outputId": "5ce0ac76-d3f9-4dc7-d0db-78c3ea585d3d"
      },
      "outputs": [
        {
          "output_type": "stream",
          "name": "stdout",
          "text": [
            "\"시작\"을 입력하시면 계산기가 작동합니다. \"종료\"를 입력하시면 계산기가 종료됩니다.\n",
            "\"시작\" / \"종료\" 로 입력해주십시오 : 시작\n",
            "정수를 입력하십시오.1.5\n",
            "정수가 아닙니다.\n",
            "정수를 입력하십시오.4\n",
            "연산자를 입력하십시오. 연산자는 +, -, *, /, ** 중 하나입니다./\n",
            "정수를 입력하십시오.0\n",
            "다음의 수식을 입력하셨습니다 :  4 / 0\n",
            "0으로 나누기를 시도하였습니다.\n",
            "정답 :  N/A\n",
            "\"시작\"을 입력하시면 계산기가 작동합니다. \"종료\"를 입력하시면 계산기가 종료됩니다.\n",
            "\"시작\" / \"종료\" 로 입력해주십시오 : 시작\n",
            "정수를 입력하십시오.3\n",
            "연산자를 입력하십시오. 연산자는 +, -, *, /, ** 중 하나입니다.**\n",
            "정수를 입력하십시오.4\n",
            "다음의 수식을 입력하셨습니다 :  3 ** 4\n",
            "정답 :  81.0\n",
            "\"시작\"을 입력하시면 계산기가 작동합니다. \"종료\"를 입력하시면 계산기가 종료됩니다.\n",
            "\"시작\" / \"종료\" 로 입력해주십시오 : 무히뮈\n",
            "잘못된 값을 입력하셨습니다.\n",
            "\"시작\"을 입력하시면 계산기가 작동합니다. \"종료\"를 입력하시면 계산기가 종료됩니다.\n",
            "\"시작\" / \"종료\" 로 입력해주십시오 : 종료\n",
            "계산기롤 종료합니다.\n"
          ]
        }
      ],
      "source": [
        "import math\n",
        "\n",
        "def calculator_initiate():\n",
        "  while True:\n",
        "    try:\n",
        "      a = int(input(\"정수를 입력하십시오.\"))\n",
        "    except(ValueError):\n",
        "      print(\"정수가 아닙니다.\")\n",
        "    else:\n",
        "      break\n",
        "  # a가 int 자료형 (즉 정수) 으로 변환될 수 있는 값이 나올 때까지 a값을 입력받는 과정을 무한반복하게 함\n",
        "\n",
        "  while True:\n",
        "    try:\n",
        "      com = input(\"연산자를 입력하십시오. 연산자는 +, -, *, /, ** 중 하나입니다.\")\n",
        "      if com not in [\"+\", \"-\", \"*\", \"/\", \"**\"]:\n",
        "        raise ValueError(\"지원하지 않는 연산자입니다.\")\n",
        "    except(ValueError):\n",
        "      print(\"지원하지 않는 연산자를 입력했습니다.\")\n",
        "    else:\n",
        "      break\n",
        "  # 이 게산기가 지원하는 5종의 연산자를 입력받을 때까지 com값 (즉 연산자) 을 입력받는 과정을 무한반복하게 함\n",
        "\n",
        "  while True:\n",
        "    try:\n",
        "      b = int(input(\"정수를 입력하십시오.\"))\n",
        "    except(ValueError):\n",
        "      print(\"정수가 아닙니다.\")\n",
        "    else:\n",
        "      break\n",
        "  # b가 int 자료형 (즉 정수) 으로 변환될 수 있는 값이 나올 때까지 b값을 입력받는 과정을 무한반복하게 함\n",
        "\n",
        "  print(\"다음의 수식을 입력하셨습니다 : \", a, com, b)\n",
        "  # 수식을 제대로 입력받은 것인지 중간 검증\n",
        "\n",
        "  # 실제로 계산을 실행하는 부분. 계산 결과값을 result 변수에 할당함\n",
        "  if com == \"**\":\n",
        "    result = math.pow(a, b)\n",
        "  elif com == \"+\":\n",
        "    result = a + b\n",
        "  elif com == \"-\":\n",
        "    result = a - b\n",
        "  elif com == \"*\":\n",
        "    result = a * b\n",
        "  elif com == \"/\":\n",
        "    try:\n",
        "      result = a / b\n",
        "    # try문을 사용하기 위해 오류가 날 가능성이 있는 수식을 일부러 result 변수에 할당함\n",
        "    except(ZeroDivisionError):\n",
        "      print(\"0으로 나누기를 시도하였습니다.\")\n",
        "      result = \"N/A\"\n",
        "    # ZeroDivisionError가 발생하였을 경우 \"0으로 나누기를 시도하였습니다.\" 메세지를 출력하고 result값을 \"N/A\"로 반환\n",
        "    finally:\n",
        "      pass\n",
        "    # ZeroDivisionError가 발생해도 계산기는 계속 작동해야 하므로 finally 분기를 설정하고, 할 말은 위의 try와 except에서 끝났으므로 분기의 내용은 pass로 설정\n",
        "  print(\"정답 : \", result)\n",
        "\n",
        "\n",
        "start = \"\"\n",
        "while start == \"\":\n",
        "  print('\"시작\"을 입력하시면 계산기가 작동합니다. \"종료\"를 입력하시면 계산기가 종료됩니다.')\n",
        "  start = input('\"시작\" / \"종료\" 로 입력해주십시오 : ')\n",
        "  if start == \"시작\":\n",
        "    calculator_initiate()\n",
        "    start = \"\"\n",
        "  elif start == \"종료\":\n",
        "    print(\"계산기롤 종료합니다.\")\n",
        "  else:\n",
        "    print(\"잘못된 값을 입력하셨습니다.\")\n",
        "    start = \"\"\n",
        "# start 변수에 빈 값이 할당되어 있을 때 프로그램을 시작할지 말지 묻는 질문을 출력\n",
        "# input에 \"시작\"을 입력하면 calculator_initiate() 함수를 수행한 뒤 start를 다시 빈 값으로 할당하여 프로그램을 시작할지 다시 묻게 함\n",
        "# input에 \"종료\"를 입력하면 그 상태로 조건문을 끝내, 다음에 아무 명령어도 실행되지 않게 함\n",
        "# input에 두 값 이외의 값을 입력하면 start를 다시 빈 값으로 할당하여 프로그램을 시작할지 다시 묻게 함"
      ]
    },
    {
      "cell_type": "markdown",
      "source": [
        "**회고 (윤경석)**\n",
        "\n",
        "함수를 짜는 방법이 머리 속에서 잘 떠오르지 않아 프리아이펠 튜토리얼 첫번째 문제에서 제출한 코드를 많이 참조하였습니다.\n",
        "\n",
        "또 함수값을 return하고 다른 함수의 인수로 넣는 과정이 아직도 많이 서툴러서 처음에는 수식 입력과 0으로 나누기 예외처리, 실제 계산 부분을 전부 다 다른 함수로 처리하려 하였다가 코드가 잘 짜이지 않아서 그냥 모든 과정을 하나의 함수에 묶어버렸습니다.\n",
        "\n",
        "또 오류를 출력하고서도 프로그래밍을 여전히 굴러가게 하기 위해서 finally 분기를 사용한 구문을 짠 부분 역시도 제가 제대로 코딩을 짠 게 맞는가 하는 불안감이 들었습니다.\n",
        "\n",
        "여러 가지로 제 실력 앞에서 겸손해질 수 있게 된 과제였습니다."
      ],
      "metadata": {
        "id": "hm7LVi3N503q"
      }
    },
    {
      "cell_type": "markdown",
      "source": [
        "**회고 (박지윤)**\n",
        "\n",
        "잘한 점 : 조건을 다 맞췄습니다! 코드가 깔끔해보이지만 이래저래 시행착오를 많이 겪었습니다. 제일 어려웠던 건 실패/ 완료 시 다시 불러오는 것이었습니다. 코드 자체가 이해가 잘 안 되어서 같이 작업한 그루님께 여쭤보아서 이해를 했습니다.\n",
        "\n",
        "아쉬운 점 : 솔직히 잘 짠 것 같습니다 ㅋ.ㅋ\n",
        "\n",
        "느낀 점 : 제가 약한 부분이 반복문인 것 같습니다. 여기를 다시 복습해야겠어요!"
      ],
      "metadata": {
        "id": "r2f8X1YY82mp"
      }
    }
  ]
}